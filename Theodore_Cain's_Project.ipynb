{
  "nbformat": 4,
  "nbformat_minor": 0,
  "metadata": {
    "colab": {
      "provenance": [],
      "authorship_tag": "ABX9TyPVRL0j6m8RW6oylKlZPa0R",
      "include_colab_link": true
    },
    "kernelspec": {
      "name": "python3",
      "display_name": "Python 3"
    },
    "language_info": {
      "name": "python"
    }
  },
  "cells": [
    {
      "cell_type": "markdown",
      "metadata": {
        "id": "view-in-github",
        "colab_type": "text"
      },
      "source": [
        "<a href=\"https://colab.research.google.com/github/JabberJaws89/Darpya/blob/main/Theodore_Cain's_Project.ipynb\" target=\"_parent\"><img src=\"https://colab.research.google.com/assets/colab-badge.svg\" alt=\"Open In Colab\"/></a>"
      ]
    },
    {
      "cell_type": "markdown",
      "source": [
        " Data Cleaning & Exploratory Data Analysis on Invoices"
      ],
      "metadata": {
        "id": "dtX7nvUqS062"
      }
    },
    {
      "cell_type": "markdown",
      "source": [
        "Presented by\n",
        "Theodore Cain"
      ],
      "metadata": {
        "id": "0AH5lZQ-TXcm"
      }
    },
    {
      "cell_type": "markdown",
      "source": [],
      "metadata": {
        "id": "CzsbYqNMTpcC"
      }
    },
    {
      "cell_type": "markdown",
      "source": [
        "Wide World Importers is a fake company that sells a variety of different products such as slippers, coffee mugs, and flash drives. The company has extensive records of invoices that have been created during the past several years and would like you, the data analyst, to explore the data to determine if there is anything noteworthy that executives should incorporate into their business strategy. However, because the data has been input over the years using several different programs, there are some holes in the data set that need \"cleaning\". The data will eventually be run through a machine learning model and thus cannot contain any null values."
      ],
      "metadata": {
        "id": "YBNv7qT6TdRV"
      }
    },
    {
      "cell_type": "code",
      "execution_count": null,
      "metadata": {
        "colab": {
          "base_uri": "https://localhost:8080/",
          "height": 328
        },
        "id": "eR1i4JyDQPKS",
        "outputId": "8b4b6e80-b3f5-40c1-cef6-695fefe2fcca"
      },
      "outputs": [
        {
          "output_type": "stream",
          "name": "stderr",
          "text": [
            "<ipython-input-1-3f39dae779c4>:2: DtypeWarning: Columns (12) have mixed types. Specify dtype option on import or set low_memory=False.\n",
            "  df = pd.read_csv('/content/invoices.csv')\n"
          ]
        },
        {
          "output_type": "execute_result",
          "data": {
            "text/plain": [
              "   InvoiceLineID  InvoiceID  StockItemID  \\\n",
              "0              1          1         67.0   \n",
              "1              2          2         50.0   \n",
              "2              3          2         10.0   \n",
              "3              4          3        114.0   \n",
              "4              5          4        206.0   \n",
              "\n",
              "                                         Description  PackageTypeID  Quantity  \\\n",
              "0           Ride on toy sedan car (Black) 1/12 scale              7        10   \n",
              "1  Developer joke mug - old C developers never di...              7         9   \n",
              "2               USB food flash drive - chocolate bar              7         9   \n",
              "3                 Superhero action jacket (Blue) XXL              7         3   \n",
              "4         Permanent marker black 5mm nib (Black) 5mm              7        96   \n",
              "\n",
              "   UnitPrice  TaxRate  TaxAmount  LineProfit  ExtendedPrice  LastEditedBy  \\\n",
              "0      230.0       15      345.0       850.0         2645.0             7   \n",
              "1       13.0       15        NaN        76.5         -999.0             7   \n",
              "2       32.0       15       43.2       180.0          331.2             7   \n",
              "3       30.0       15        NaN        24.0         -999.0             7   \n",
              "4        2.7       15        NaN        96.0            NaN             7   \n",
              "\n",
              "   LastEditedWhen          Customer  \n",
              "0             NaN     Stuff by Stew  \n",
              "1  1/1/2013 12:00   Wholesaler Plus  \n",
              "2             NaN   Wholesaler Plus  \n",
              "3             NaN   Big Buys Retail  \n",
              "4  1/1/2013 12:00  Terry's Trinkets  "
            ],
            "text/html": [
              "\n",
              "  <div id=\"df-dfaddffb-c12e-4320-a610-9420a54233ec\" class=\"colab-df-container\">\n",
              "    <div>\n",
              "<style scoped>\n",
              "    .dataframe tbody tr th:only-of-type {\n",
              "        vertical-align: middle;\n",
              "    }\n",
              "\n",
              "    .dataframe tbody tr th {\n",
              "        vertical-align: top;\n",
              "    }\n",
              "\n",
              "    .dataframe thead th {\n",
              "        text-align: right;\n",
              "    }\n",
              "</style>\n",
              "<table border=\"1\" class=\"dataframe\">\n",
              "  <thead>\n",
              "    <tr style=\"text-align: right;\">\n",
              "      <th></th>\n",
              "      <th>InvoiceLineID</th>\n",
              "      <th>InvoiceID</th>\n",
              "      <th>StockItemID</th>\n",
              "      <th>Description</th>\n",
              "      <th>PackageTypeID</th>\n",
              "      <th>Quantity</th>\n",
              "      <th>UnitPrice</th>\n",
              "      <th>TaxRate</th>\n",
              "      <th>TaxAmount</th>\n",
              "      <th>LineProfit</th>\n",
              "      <th>ExtendedPrice</th>\n",
              "      <th>LastEditedBy</th>\n",
              "      <th>LastEditedWhen</th>\n",
              "      <th>Customer</th>\n",
              "    </tr>\n",
              "  </thead>\n",
              "  <tbody>\n",
              "    <tr>\n",
              "      <th>0</th>\n",
              "      <td>1</td>\n",
              "      <td>1</td>\n",
              "      <td>67.0</td>\n",
              "      <td>Ride on toy sedan car (Black) 1/12 scale</td>\n",
              "      <td>7</td>\n",
              "      <td>10</td>\n",
              "      <td>230.0</td>\n",
              "      <td>15</td>\n",
              "      <td>345.0</td>\n",
              "      <td>850.0</td>\n",
              "      <td>2645.0</td>\n",
              "      <td>7</td>\n",
              "      <td>NaN</td>\n",
              "      <td>Stuff by Stew</td>\n",
              "    </tr>\n",
              "    <tr>\n",
              "      <th>1</th>\n",
              "      <td>2</td>\n",
              "      <td>2</td>\n",
              "      <td>50.0</td>\n",
              "      <td>Developer joke mug - old C developers never di...</td>\n",
              "      <td>7</td>\n",
              "      <td>9</td>\n",
              "      <td>13.0</td>\n",
              "      <td>15</td>\n",
              "      <td>NaN</td>\n",
              "      <td>76.5</td>\n",
              "      <td>-999.0</td>\n",
              "      <td>7</td>\n",
              "      <td>1/1/2013 12:00</td>\n",
              "      <td>Wholesaler Plus</td>\n",
              "    </tr>\n",
              "    <tr>\n",
              "      <th>2</th>\n",
              "      <td>3</td>\n",
              "      <td>2</td>\n",
              "      <td>10.0</td>\n",
              "      <td>USB food flash drive - chocolate bar</td>\n",
              "      <td>7</td>\n",
              "      <td>9</td>\n",
              "      <td>32.0</td>\n",
              "      <td>15</td>\n",
              "      <td>43.2</td>\n",
              "      <td>180.0</td>\n",
              "      <td>331.2</td>\n",
              "      <td>7</td>\n",
              "      <td>NaN</td>\n",
              "      <td>Wholesaler Plus</td>\n",
              "    </tr>\n",
              "    <tr>\n",
              "      <th>3</th>\n",
              "      <td>4</td>\n",
              "      <td>3</td>\n",
              "      <td>114.0</td>\n",
              "      <td>Superhero action jacket (Blue) XXL</td>\n",
              "      <td>7</td>\n",
              "      <td>3</td>\n",
              "      <td>30.0</td>\n",
              "      <td>15</td>\n",
              "      <td>NaN</td>\n",
              "      <td>24.0</td>\n",
              "      <td>-999.0</td>\n",
              "      <td>7</td>\n",
              "      <td>NaN</td>\n",
              "      <td>Big Buys Retail</td>\n",
              "    </tr>\n",
              "    <tr>\n",
              "      <th>4</th>\n",
              "      <td>5</td>\n",
              "      <td>4</td>\n",
              "      <td>206.0</td>\n",
              "      <td>Permanent marker black 5mm nib (Black) 5mm</td>\n",
              "      <td>7</td>\n",
              "      <td>96</td>\n",
              "      <td>2.7</td>\n",
              "      <td>15</td>\n",
              "      <td>NaN</td>\n",
              "      <td>96.0</td>\n",
              "      <td>NaN</td>\n",
              "      <td>7</td>\n",
              "      <td>1/1/2013 12:00</td>\n",
              "      <td>Terry's Trinkets</td>\n",
              "    </tr>\n",
              "  </tbody>\n",
              "</table>\n",
              "</div>\n",
              "    <div class=\"colab-df-buttons\">\n",
              "\n",
              "  <div class=\"colab-df-container\">\n",
              "    <button class=\"colab-df-convert\" onclick=\"convertToInteractive('df-dfaddffb-c12e-4320-a610-9420a54233ec')\"\n",
              "            title=\"Convert this dataframe to an interactive table.\"\n",
              "            style=\"display:none;\">\n",
              "\n",
              "  <svg xmlns=\"http://www.w3.org/2000/svg\" height=\"24px\" viewBox=\"0 -960 960 960\">\n",
              "    <path d=\"M120-120v-720h720v720H120Zm60-500h600v-160H180v160Zm220 220h160v-160H400v160Zm0 220h160v-160H400v160ZM180-400h160v-160H180v160Zm440 0h160v-160H620v160ZM180-180h160v-160H180v160Zm440 0h160v-160H620v160Z\"/>\n",
              "  </svg>\n",
              "    </button>\n",
              "\n",
              "  <style>\n",
              "    .colab-df-container {\n",
              "      display:flex;\n",
              "      gap: 12px;\n",
              "    }\n",
              "\n",
              "    .colab-df-convert {\n",
              "      background-color: #E8F0FE;\n",
              "      border: none;\n",
              "      border-radius: 50%;\n",
              "      cursor: pointer;\n",
              "      display: none;\n",
              "      fill: #1967D2;\n",
              "      height: 32px;\n",
              "      padding: 0 0 0 0;\n",
              "      width: 32px;\n",
              "    }\n",
              "\n",
              "    .colab-df-convert:hover {\n",
              "      background-color: #E2EBFA;\n",
              "      box-shadow: 0px 1px 2px rgba(60, 64, 67, 0.3), 0px 1px 3px 1px rgba(60, 64, 67, 0.15);\n",
              "      fill: #174EA6;\n",
              "    }\n",
              "\n",
              "    .colab-df-buttons div {\n",
              "      margin-bottom: 4px;\n",
              "    }\n",
              "\n",
              "    [theme=dark] .colab-df-convert {\n",
              "      background-color: #3B4455;\n",
              "      fill: #D2E3FC;\n",
              "    }\n",
              "\n",
              "    [theme=dark] .colab-df-convert:hover {\n",
              "      background-color: #434B5C;\n",
              "      box-shadow: 0px 1px 3px 1px rgba(0, 0, 0, 0.15);\n",
              "      filter: drop-shadow(0px 1px 2px rgba(0, 0, 0, 0.3));\n",
              "      fill: #FFFFFF;\n",
              "    }\n",
              "  </style>\n",
              "\n",
              "    <script>\n",
              "      const buttonEl =\n",
              "        document.querySelector('#df-dfaddffb-c12e-4320-a610-9420a54233ec button.colab-df-convert');\n",
              "      buttonEl.style.display =\n",
              "        google.colab.kernel.accessAllowed ? 'block' : 'none';\n",
              "\n",
              "      async function convertToInteractive(key) {\n",
              "        const element = document.querySelector('#df-dfaddffb-c12e-4320-a610-9420a54233ec');\n",
              "        const dataTable =\n",
              "          await google.colab.kernel.invokeFunction('convertToInteractive',\n",
              "                                                    [key], {});\n",
              "        if (!dataTable) return;\n",
              "\n",
              "        const docLinkHtml = 'Like what you see? Visit the ' +\n",
              "          '<a target=\"_blank\" href=https://colab.research.google.com/notebooks/data_table.ipynb>data table notebook</a>'\n",
              "          + ' to learn more about interactive tables.';\n",
              "        element.innerHTML = '';\n",
              "        dataTable['output_type'] = 'display_data';\n",
              "        await google.colab.output.renderOutput(dataTable, element);\n",
              "        const docLink = document.createElement('div');\n",
              "        docLink.innerHTML = docLinkHtml;\n",
              "        element.appendChild(docLink);\n",
              "      }\n",
              "    </script>\n",
              "  </div>\n",
              "\n",
              "\n",
              "    <div id=\"df-0c4b50be-9ade-4260-8aa6-7781e4f8e275\">\n",
              "      <button class=\"colab-df-quickchart\" onclick=\"quickchart('df-0c4b50be-9ade-4260-8aa6-7781e4f8e275')\"\n",
              "                title=\"Suggest charts\"\n",
              "                style=\"display:none;\">\n",
              "\n",
              "<svg xmlns=\"http://www.w3.org/2000/svg\" height=\"24px\"viewBox=\"0 0 24 24\"\n",
              "     width=\"24px\">\n",
              "    <g>\n",
              "        <path d=\"M19 3H5c-1.1 0-2 .9-2 2v14c0 1.1.9 2 2 2h14c1.1 0 2-.9 2-2V5c0-1.1-.9-2-2-2zM9 17H7v-7h2v7zm4 0h-2V7h2v10zm4 0h-2v-4h2v4z\"/>\n",
              "    </g>\n",
              "</svg>\n",
              "      </button>\n",
              "\n",
              "<style>\n",
              "  .colab-df-quickchart {\n",
              "      --bg-color: #E8F0FE;\n",
              "      --fill-color: #1967D2;\n",
              "      --hover-bg-color: #E2EBFA;\n",
              "      --hover-fill-color: #174EA6;\n",
              "      --disabled-fill-color: #AAA;\n",
              "      --disabled-bg-color: #DDD;\n",
              "  }\n",
              "\n",
              "  [theme=dark] .colab-df-quickchart {\n",
              "      --bg-color: #3B4455;\n",
              "      --fill-color: #D2E3FC;\n",
              "      --hover-bg-color: #434B5C;\n",
              "      --hover-fill-color: #FFFFFF;\n",
              "      --disabled-bg-color: #3B4455;\n",
              "      --disabled-fill-color: #666;\n",
              "  }\n",
              "\n",
              "  .colab-df-quickchart {\n",
              "    background-color: var(--bg-color);\n",
              "    border: none;\n",
              "    border-radius: 50%;\n",
              "    cursor: pointer;\n",
              "    display: none;\n",
              "    fill: var(--fill-color);\n",
              "    height: 32px;\n",
              "    padding: 0;\n",
              "    width: 32px;\n",
              "  }\n",
              "\n",
              "  .colab-df-quickchart:hover {\n",
              "    background-color: var(--hover-bg-color);\n",
              "    box-shadow: 0 1px 2px rgba(60, 64, 67, 0.3), 0 1px 3px 1px rgba(60, 64, 67, 0.15);\n",
              "    fill: var(--button-hover-fill-color);\n",
              "  }\n",
              "\n",
              "  .colab-df-quickchart-complete:disabled,\n",
              "  .colab-df-quickchart-complete:disabled:hover {\n",
              "    background-color: var(--disabled-bg-color);\n",
              "    fill: var(--disabled-fill-color);\n",
              "    box-shadow: none;\n",
              "  }\n",
              "\n",
              "  .colab-df-spinner {\n",
              "    border: 2px solid var(--fill-color);\n",
              "    border-color: transparent;\n",
              "    border-bottom-color: var(--fill-color);\n",
              "    animation:\n",
              "      spin 1s steps(1) infinite;\n",
              "  }\n",
              "\n",
              "  @keyframes spin {\n",
              "    0% {\n",
              "      border-color: transparent;\n",
              "      border-bottom-color: var(--fill-color);\n",
              "      border-left-color: var(--fill-color);\n",
              "    }\n",
              "    20% {\n",
              "      border-color: transparent;\n",
              "      border-left-color: var(--fill-color);\n",
              "      border-top-color: var(--fill-color);\n",
              "    }\n",
              "    30% {\n",
              "      border-color: transparent;\n",
              "      border-left-color: var(--fill-color);\n",
              "      border-top-color: var(--fill-color);\n",
              "      border-right-color: var(--fill-color);\n",
              "    }\n",
              "    40% {\n",
              "      border-color: transparent;\n",
              "      border-right-color: var(--fill-color);\n",
              "      border-top-color: var(--fill-color);\n",
              "    }\n",
              "    60% {\n",
              "      border-color: transparent;\n",
              "      border-right-color: var(--fill-color);\n",
              "    }\n",
              "    80% {\n",
              "      border-color: transparent;\n",
              "      border-right-color: var(--fill-color);\n",
              "      border-bottom-color: var(--fill-color);\n",
              "    }\n",
              "    90% {\n",
              "      border-color: transparent;\n",
              "      border-bottom-color: var(--fill-color);\n",
              "    }\n",
              "  }\n",
              "</style>\n",
              "\n",
              "      <script>\n",
              "        async function quickchart(key) {\n",
              "          const quickchartButtonEl =\n",
              "            document.querySelector('#' + key + ' button');\n",
              "          quickchartButtonEl.disabled = true;  // To prevent multiple clicks.\n",
              "          quickchartButtonEl.classList.add('colab-df-spinner');\n",
              "          try {\n",
              "            const charts = await google.colab.kernel.invokeFunction(\n",
              "                'suggestCharts', [key], {});\n",
              "          } catch (error) {\n",
              "            console.error('Error during call to suggestCharts:', error);\n",
              "          }\n",
              "          quickchartButtonEl.classList.remove('colab-df-spinner');\n",
              "          quickchartButtonEl.classList.add('colab-df-quickchart-complete');\n",
              "        }\n",
              "        (() => {\n",
              "          let quickchartButtonEl =\n",
              "            document.querySelector('#df-0c4b50be-9ade-4260-8aa6-7781e4f8e275 button');\n",
              "          quickchartButtonEl.style.display =\n",
              "            google.colab.kernel.accessAllowed ? 'block' : 'none';\n",
              "        })();\n",
              "      </script>\n",
              "    </div>\n",
              "\n",
              "    </div>\n",
              "  </div>\n"
            ],
            "application/vnd.google.colaboratory.intrinsic+json": {
              "type": "dataframe",
              "variable_name": "df"
            }
          },
          "metadata": {},
          "execution_count": 1
        }
      ],
      "source": [
        "import pandas as pd\n",
        "df = pd.read_csv('/content/invoices.csv')\n",
        "df.head()"
      ]
    },
    {
      "cell_type": "code",
      "source": [],
      "metadata": {
        "id": "X76Yb_K5L2rM"
      },
      "execution_count": null,
      "outputs": []
    },
    {
      "cell_type": "markdown",
      "source": [
        "You should perform the following cleaning steps as indicated in the questions below, in this order:\n",
        "\n",
        "1-Fix standardization errors, where applicable\n",
        "\n",
        "2-Fix business logic errors, where applicable\n",
        "\n",
        "3-Impute null values, where possible\n",
        "Drop columns with many null values, where applicable\n",
        "\n",
        "4-Drop rows with null values, where applicable\n",
        "\n",
        "5-Drop duplicate rows, where applicable,\n",
        "Identify outliers and fix them as instructed"
      ],
      "metadata": {
        "id": "GOSr3Zo5T1SG"
      }
    },
    {
      "cell_type": "markdown",
      "source": [
        "The company would like you to answer the following questions, after cleaning has been performed:\n",
        "\n",
        "1-Which customer has the most invoices?\n",
        "\n",
        "2-Which item has the highest total quantity sold?\n",
        "\n",
        "3-Which item has generated the most total profit?\n",
        "\n",
        "4-Which item do customers purchase the most quantity of, on average?\n"
      ],
      "metadata": {
        "id": "7S-QDo83T6A7"
      }
    },
    {
      "cell_type": "code",
      "source": [
        "df.info()\n"
      ],
      "metadata": {
        "colab": {
          "base_uri": "https://localhost:8080/"
        },
        "id": "IMdWhcE0T9eG",
        "outputId": "7d5484aa-f4f6-4563-d3ce-9d8ba6e3d5c6"
      },
      "execution_count": null,
      "outputs": [
        {
          "output_type": "stream",
          "name": "stdout",
          "text": [
            "<class 'pandas.core.frame.DataFrame'>\n",
            "RangeIndex: 230548 entries, 0 to 230547\n",
            "Data columns (total 14 columns):\n",
            " #   Column          Non-Null Count   Dtype  \n",
            "---  ------          --------------   -----  \n",
            " 0   InvoiceLineID   230548 non-null  int64  \n",
            " 1   InvoiceID       230548 non-null  int64  \n",
            " 2   StockItemID     230087 non-null  float64\n",
            " 3   Description     229876 non-null  object \n",
            " 4   PackageTypeID   230548 non-null  int64  \n",
            " 5   Quantity        230548 non-null  int64  \n",
            " 6   UnitPrice       230548 non-null  float64\n",
            " 7   TaxRate         230548 non-null  int64  \n",
            " 8   TaxAmount       109623 non-null  float64\n",
            " 9   LineProfit      230548 non-null  float64\n",
            " 10  ExtendedPrice   113081 non-null  float64\n",
            " 11  LastEditedBy    230548 non-null  int64  \n",
            " 12  LastEditedWhen  6 non-null       object \n",
            " 13  Customer        230548 non-null  object \n",
            "dtypes: float64(5), int64(6), object(3)\n",
            "memory usage: 24.6+ MB\n"
          ]
        }
      ]
    },
    {
      "cell_type": "code",
      "source": [
        "df.describe()"
      ],
      "metadata": {
        "colab": {
          "base_uri": "https://localhost:8080/",
          "height": 300
        },
        "id": "LO43iO-tUf0z",
        "outputId": "ad4a4d3f-e396-49a7-aa21-9dca293d4751"
      },
      "execution_count": null,
      "outputs": [
        {
          "output_type": "execute_result",
          "data": {
            "text/plain": [
              "       InvoiceLineID      InvoiceID    StockItemID  PackageTypeID  \\\n",
              "count  230548.000000  230548.000000  230087.000000  230548.000000   \n",
              "mean   114127.066880   35177.386891     110.181827       7.073638   \n",
              "std     65900.142929   20338.920057      63.722514       0.644528   \n",
              "min         1.000000       1.000000       1.000000       1.000000   \n",
              "25%     57062.750000   17570.000000      54.000000       7.000000   \n",
              "50%    114130.500000   35151.000000     111.000000       7.000000   \n",
              "75%    171203.250000   52766.000000     165.000000       7.000000   \n",
              "max    228265.000000   70510.000000     227.000000      10.000000   \n",
              "\n",
              "            Quantity      UnitPrice        TaxRate      TaxAmount  \\\n",
              "count  230548.000000  230548.000000  230548.000000  109623.000000   \n",
              "mean       39.252524      45.539361      14.463409     113.328006   \n",
              "std        55.193934     139.510031       3.904056     221.866696   \n",
              "min         1.000000       0.660000     -15.000000       0.380000   \n",
              "25%         5.000000      13.000000      15.000000      14.400000   \n",
              "50%        10.000000      18.000000      15.000000      34.500000   \n",
              "75%        60.000000      32.000000      15.000000     129.600000   \n",
              "max      3150.000000    1899.000000      15.000000   14994.000000   \n",
              "\n",
              "         LineProfit  ExtendedPrice   LastEditedBy  \n",
              "count  230548.00000  113081.000000  230548.000000  \n",
              "mean      375.38894     740.092626      10.800480  \n",
              "std       753.17041    1705.229089       5.509623  \n",
              "min      -645.00000    -999.000000       2.000000  \n",
              "25%        51.00000      89.700000       6.000000  \n",
              "50%       120.00000     248.400000      11.000000  \n",
              "75%       390.00000     919.080000      16.000000  \n",
              "max      9200.00000  114954.000000      20.000000  "
            ],
            "text/html": [
              "\n",
              "  <div id=\"df-0db778e2-1e25-4996-a7e3-80fe21d19078\" class=\"colab-df-container\">\n",
              "    <div>\n",
              "<style scoped>\n",
              "    .dataframe tbody tr th:only-of-type {\n",
              "        vertical-align: middle;\n",
              "    }\n",
              "\n",
              "    .dataframe tbody tr th {\n",
              "        vertical-align: top;\n",
              "    }\n",
              "\n",
              "    .dataframe thead th {\n",
              "        text-align: right;\n",
              "    }\n",
              "</style>\n",
              "<table border=\"1\" class=\"dataframe\">\n",
              "  <thead>\n",
              "    <tr style=\"text-align: right;\">\n",
              "      <th></th>\n",
              "      <th>InvoiceLineID</th>\n",
              "      <th>InvoiceID</th>\n",
              "      <th>StockItemID</th>\n",
              "      <th>PackageTypeID</th>\n",
              "      <th>Quantity</th>\n",
              "      <th>UnitPrice</th>\n",
              "      <th>TaxRate</th>\n",
              "      <th>TaxAmount</th>\n",
              "      <th>LineProfit</th>\n",
              "      <th>ExtendedPrice</th>\n",
              "      <th>LastEditedBy</th>\n",
              "    </tr>\n",
              "  </thead>\n",
              "  <tbody>\n",
              "    <tr>\n",
              "      <th>count</th>\n",
              "      <td>230548.000000</td>\n",
              "      <td>230548.000000</td>\n",
              "      <td>230087.000000</td>\n",
              "      <td>230548.000000</td>\n",
              "      <td>230548.000000</td>\n",
              "      <td>230548.000000</td>\n",
              "      <td>230548.000000</td>\n",
              "      <td>109623.000000</td>\n",
              "      <td>230548.00000</td>\n",
              "      <td>113081.000000</td>\n",
              "      <td>230548.000000</td>\n",
              "    </tr>\n",
              "    <tr>\n",
              "      <th>mean</th>\n",
              "      <td>114127.066880</td>\n",
              "      <td>35177.386891</td>\n",
              "      <td>110.181827</td>\n",
              "      <td>7.073638</td>\n",
              "      <td>39.252524</td>\n",
              "      <td>45.539361</td>\n",
              "      <td>14.463409</td>\n",
              "      <td>113.328006</td>\n",
              "      <td>375.38894</td>\n",
              "      <td>740.092626</td>\n",
              "      <td>10.800480</td>\n",
              "    </tr>\n",
              "    <tr>\n",
              "      <th>std</th>\n",
              "      <td>65900.142929</td>\n",
              "      <td>20338.920057</td>\n",
              "      <td>63.722514</td>\n",
              "      <td>0.644528</td>\n",
              "      <td>55.193934</td>\n",
              "      <td>139.510031</td>\n",
              "      <td>3.904056</td>\n",
              "      <td>221.866696</td>\n",
              "      <td>753.17041</td>\n",
              "      <td>1705.229089</td>\n",
              "      <td>5.509623</td>\n",
              "    </tr>\n",
              "    <tr>\n",
              "      <th>min</th>\n",
              "      <td>1.000000</td>\n",
              "      <td>1.000000</td>\n",
              "      <td>1.000000</td>\n",
              "      <td>1.000000</td>\n",
              "      <td>1.000000</td>\n",
              "      <td>0.660000</td>\n",
              "      <td>-15.000000</td>\n",
              "      <td>0.380000</td>\n",
              "      <td>-645.00000</td>\n",
              "      <td>-999.000000</td>\n",
              "      <td>2.000000</td>\n",
              "    </tr>\n",
              "    <tr>\n",
              "      <th>25%</th>\n",
              "      <td>57062.750000</td>\n",
              "      <td>17570.000000</td>\n",
              "      <td>54.000000</td>\n",
              "      <td>7.000000</td>\n",
              "      <td>5.000000</td>\n",
              "      <td>13.000000</td>\n",
              "      <td>15.000000</td>\n",
              "      <td>14.400000</td>\n",
              "      <td>51.00000</td>\n",
              "      <td>89.700000</td>\n",
              "      <td>6.000000</td>\n",
              "    </tr>\n",
              "    <tr>\n",
              "      <th>50%</th>\n",
              "      <td>114130.500000</td>\n",
              "      <td>35151.000000</td>\n",
              "      <td>111.000000</td>\n",
              "      <td>7.000000</td>\n",
              "      <td>10.000000</td>\n",
              "      <td>18.000000</td>\n",
              "      <td>15.000000</td>\n",
              "      <td>34.500000</td>\n",
              "      <td>120.00000</td>\n",
              "      <td>248.400000</td>\n",
              "      <td>11.000000</td>\n",
              "    </tr>\n",
              "    <tr>\n",
              "      <th>75%</th>\n",
              "      <td>171203.250000</td>\n",
              "      <td>52766.000000</td>\n",
              "      <td>165.000000</td>\n",
              "      <td>7.000000</td>\n",
              "      <td>60.000000</td>\n",
              "      <td>32.000000</td>\n",
              "      <td>15.000000</td>\n",
              "      <td>129.600000</td>\n",
              "      <td>390.00000</td>\n",
              "      <td>919.080000</td>\n",
              "      <td>16.000000</td>\n",
              "    </tr>\n",
              "    <tr>\n",
              "      <th>max</th>\n",
              "      <td>228265.000000</td>\n",
              "      <td>70510.000000</td>\n",
              "      <td>227.000000</td>\n",
              "      <td>10.000000</td>\n",
              "      <td>3150.000000</td>\n",
              "      <td>1899.000000</td>\n",
              "      <td>15.000000</td>\n",
              "      <td>14994.000000</td>\n",
              "      <td>9200.00000</td>\n",
              "      <td>114954.000000</td>\n",
              "      <td>20.000000</td>\n",
              "    </tr>\n",
              "  </tbody>\n",
              "</table>\n",
              "</div>\n",
              "    <div class=\"colab-df-buttons\">\n",
              "\n",
              "  <div class=\"colab-df-container\">\n",
              "    <button class=\"colab-df-convert\" onclick=\"convertToInteractive('df-0db778e2-1e25-4996-a7e3-80fe21d19078')\"\n",
              "            title=\"Convert this dataframe to an interactive table.\"\n",
              "            style=\"display:none;\">\n",
              "\n",
              "  <svg xmlns=\"http://www.w3.org/2000/svg\" height=\"24px\" viewBox=\"0 -960 960 960\">\n",
              "    <path d=\"M120-120v-720h720v720H120Zm60-500h600v-160H180v160Zm220 220h160v-160H400v160Zm0 220h160v-160H400v160ZM180-400h160v-160H180v160Zm440 0h160v-160H620v160ZM180-180h160v-160H180v160Zm440 0h160v-160H620v160Z\"/>\n",
              "  </svg>\n",
              "    </button>\n",
              "\n",
              "  <style>\n",
              "    .colab-df-container {\n",
              "      display:flex;\n",
              "      gap: 12px;\n",
              "    }\n",
              "\n",
              "    .colab-df-convert {\n",
              "      background-color: #E8F0FE;\n",
              "      border: none;\n",
              "      border-radius: 50%;\n",
              "      cursor: pointer;\n",
              "      display: none;\n",
              "      fill: #1967D2;\n",
              "      height: 32px;\n",
              "      padding: 0 0 0 0;\n",
              "      width: 32px;\n",
              "    }\n",
              "\n",
              "    .colab-df-convert:hover {\n",
              "      background-color: #E2EBFA;\n",
              "      box-shadow: 0px 1px 2px rgba(60, 64, 67, 0.3), 0px 1px 3px 1px rgba(60, 64, 67, 0.15);\n",
              "      fill: #174EA6;\n",
              "    }\n",
              "\n",
              "    .colab-df-buttons div {\n",
              "      margin-bottom: 4px;\n",
              "    }\n",
              "\n",
              "    [theme=dark] .colab-df-convert {\n",
              "      background-color: #3B4455;\n",
              "      fill: #D2E3FC;\n",
              "    }\n",
              "\n",
              "    [theme=dark] .colab-df-convert:hover {\n",
              "      background-color: #434B5C;\n",
              "      box-shadow: 0px 1px 3px 1px rgba(0, 0, 0, 0.15);\n",
              "      filter: drop-shadow(0px 1px 2px rgba(0, 0, 0, 0.3));\n",
              "      fill: #FFFFFF;\n",
              "    }\n",
              "  </style>\n",
              "\n",
              "    <script>\n",
              "      const buttonEl =\n",
              "        document.querySelector('#df-0db778e2-1e25-4996-a7e3-80fe21d19078 button.colab-df-convert');\n",
              "      buttonEl.style.display =\n",
              "        google.colab.kernel.accessAllowed ? 'block' : 'none';\n",
              "\n",
              "      async function convertToInteractive(key) {\n",
              "        const element = document.querySelector('#df-0db778e2-1e25-4996-a7e3-80fe21d19078');\n",
              "        const dataTable =\n",
              "          await google.colab.kernel.invokeFunction('convertToInteractive',\n",
              "                                                    [key], {});\n",
              "        if (!dataTable) return;\n",
              "\n",
              "        const docLinkHtml = 'Like what you see? Visit the ' +\n",
              "          '<a target=\"_blank\" href=https://colab.research.google.com/notebooks/data_table.ipynb>data table notebook</a>'\n",
              "          + ' to learn more about interactive tables.';\n",
              "        element.innerHTML = '';\n",
              "        dataTable['output_type'] = 'display_data';\n",
              "        await google.colab.output.renderOutput(dataTable, element);\n",
              "        const docLink = document.createElement('div');\n",
              "        docLink.innerHTML = docLinkHtml;\n",
              "        element.appendChild(docLink);\n",
              "      }\n",
              "    </script>\n",
              "  </div>\n",
              "\n",
              "\n",
              "    <div id=\"df-c9280736-f70e-4363-a5c5-901a4b24e974\">\n",
              "      <button class=\"colab-df-quickchart\" onclick=\"quickchart('df-c9280736-f70e-4363-a5c5-901a4b24e974')\"\n",
              "                title=\"Suggest charts\"\n",
              "                style=\"display:none;\">\n",
              "\n",
              "<svg xmlns=\"http://www.w3.org/2000/svg\" height=\"24px\"viewBox=\"0 0 24 24\"\n",
              "     width=\"24px\">\n",
              "    <g>\n",
              "        <path d=\"M19 3H5c-1.1 0-2 .9-2 2v14c0 1.1.9 2 2 2h14c1.1 0 2-.9 2-2V5c0-1.1-.9-2-2-2zM9 17H7v-7h2v7zm4 0h-2V7h2v10zm4 0h-2v-4h2v4z\"/>\n",
              "    </g>\n",
              "</svg>\n",
              "      </button>\n",
              "\n",
              "<style>\n",
              "  .colab-df-quickchart {\n",
              "      --bg-color: #E8F0FE;\n",
              "      --fill-color: #1967D2;\n",
              "      --hover-bg-color: #E2EBFA;\n",
              "      --hover-fill-color: #174EA6;\n",
              "      --disabled-fill-color: #AAA;\n",
              "      --disabled-bg-color: #DDD;\n",
              "  }\n",
              "\n",
              "  [theme=dark] .colab-df-quickchart {\n",
              "      --bg-color: #3B4455;\n",
              "      --fill-color: #D2E3FC;\n",
              "      --hover-bg-color: #434B5C;\n",
              "      --hover-fill-color: #FFFFFF;\n",
              "      --disabled-bg-color: #3B4455;\n",
              "      --disabled-fill-color: #666;\n",
              "  }\n",
              "\n",
              "  .colab-df-quickchart {\n",
              "    background-color: var(--bg-color);\n",
              "    border: none;\n",
              "    border-radius: 50%;\n",
              "    cursor: pointer;\n",
              "    display: none;\n",
              "    fill: var(--fill-color);\n",
              "    height: 32px;\n",
              "    padding: 0;\n",
              "    width: 32px;\n",
              "  }\n",
              "\n",
              "  .colab-df-quickchart:hover {\n",
              "    background-color: var(--hover-bg-color);\n",
              "    box-shadow: 0 1px 2px rgba(60, 64, 67, 0.3), 0 1px 3px 1px rgba(60, 64, 67, 0.15);\n",
              "    fill: var(--button-hover-fill-color);\n",
              "  }\n",
              "\n",
              "  .colab-df-quickchart-complete:disabled,\n",
              "  .colab-df-quickchart-complete:disabled:hover {\n",
              "    background-color: var(--disabled-bg-color);\n",
              "    fill: var(--disabled-fill-color);\n",
              "    box-shadow: none;\n",
              "  }\n",
              "\n",
              "  .colab-df-spinner {\n",
              "    border: 2px solid var(--fill-color);\n",
              "    border-color: transparent;\n",
              "    border-bottom-color: var(--fill-color);\n",
              "    animation:\n",
              "      spin 1s steps(1) infinite;\n",
              "  }\n",
              "\n",
              "  @keyframes spin {\n",
              "    0% {\n",
              "      border-color: transparent;\n",
              "      border-bottom-color: var(--fill-color);\n",
              "      border-left-color: var(--fill-color);\n",
              "    }\n",
              "    20% {\n",
              "      border-color: transparent;\n",
              "      border-left-color: var(--fill-color);\n",
              "      border-top-color: var(--fill-color);\n",
              "    }\n",
              "    30% {\n",
              "      border-color: transparent;\n",
              "      border-left-color: var(--fill-color);\n",
              "      border-top-color: var(--fill-color);\n",
              "      border-right-color: var(--fill-color);\n",
              "    }\n",
              "    40% {\n",
              "      border-color: transparent;\n",
              "      border-right-color: var(--fill-color);\n",
              "      border-top-color: var(--fill-color);\n",
              "    }\n",
              "    60% {\n",
              "      border-color: transparent;\n",
              "      border-right-color: var(--fill-color);\n",
              "    }\n",
              "    80% {\n",
              "      border-color: transparent;\n",
              "      border-right-color: var(--fill-color);\n",
              "      border-bottom-color: var(--fill-color);\n",
              "    }\n",
              "    90% {\n",
              "      border-color: transparent;\n",
              "      border-bottom-color: var(--fill-color);\n",
              "    }\n",
              "  }\n",
              "</style>\n",
              "\n",
              "      <script>\n",
              "        async function quickchart(key) {\n",
              "          const quickchartButtonEl =\n",
              "            document.querySelector('#' + key + ' button');\n",
              "          quickchartButtonEl.disabled = true;  // To prevent multiple clicks.\n",
              "          quickchartButtonEl.classList.add('colab-df-spinner');\n",
              "          try {\n",
              "            const charts = await google.colab.kernel.invokeFunction(\n",
              "                'suggestCharts', [key], {});\n",
              "          } catch (error) {\n",
              "            console.error('Error during call to suggestCharts:', error);\n",
              "          }\n",
              "          quickchartButtonEl.classList.remove('colab-df-spinner');\n",
              "          quickchartButtonEl.classList.add('colab-df-quickchart-complete');\n",
              "        }\n",
              "        (() => {\n",
              "          let quickchartButtonEl =\n",
              "            document.querySelector('#df-c9280736-f70e-4363-a5c5-901a4b24e974 button');\n",
              "          quickchartButtonEl.style.display =\n",
              "            google.colab.kernel.accessAllowed ? 'block' : 'none';\n",
              "        })();\n",
              "      </script>\n",
              "    </div>\n",
              "\n",
              "    </div>\n",
              "  </div>\n"
            ],
            "application/vnd.google.colaboratory.intrinsic+json": {
              "type": "dataframe",
              "summary": "{\n  \"name\": \"df\",\n  \"rows\": 8,\n  \"fields\": [\n    {\n      \"column\": \"InvoiceLineID\",\n      \"properties\": {\n        \"dtype\": \"number\",\n        \"std\": 82690.60893921297,\n        \"min\": 1.0,\n        \"max\": 230548.0,\n        \"num_unique_values\": 8,\n        \"samples\": [\n          114127.06687978208,\n          114130.5,\n          230548.0\n        ],\n        \"semantic_type\": \"\",\n        \"description\": \"\"\n      }\n    },\n    {\n      \"column\": \"InvoiceID\",\n      \"properties\": {\n        \"dtype\": \"number\",\n        \"std\": 73110.49576968589,\n        \"min\": 1.0,\n        \"max\": 230548.0,\n        \"num_unique_values\": 8,\n        \"samples\": [\n          35177.386891233065,\n          35151.0,\n          230548.0\n        ],\n        \"semantic_type\": \"\",\n        \"description\": \"\"\n      }\n    },\n    {\n      \"column\": \"StockItemID\",\n      \"properties\": {\n        \"dtype\": \"number\",\n        \"std\": 81311.10180434084,\n        \"min\": 1.0,\n        \"max\": 230087.0,\n        \"num_unique_values\": 8,\n        \"samples\": [\n          110.18182687418238,\n          111.0,\n          230087.0\n        ],\n        \"semantic_type\": \"\",\n        \"description\": \"\"\n      }\n    },\n    {\n      \"column\": \"PackageTypeID\",\n      \"properties\": {\n        \"dtype\": \"number\",\n        \"std\": 81509.0210882701,\n        \"min\": 0.6445275389721171,\n        \"max\": 230548.0,\n        \"num_unique_values\": 6,\n        \"samples\": [\n          230548.0,\n          7.073637593906692,\n          10.0\n        ],\n        \"semantic_type\": \"\",\n        \"description\": \"\"\n      }\n    },\n    {\n      \"column\": \"Quantity\",\n      \"properties\": {\n        \"dtype\": \"number\",\n        \"std\": 81350.65618842984,\n        \"min\": 1.0,\n        \"max\": 230548.0,\n        \"num_unique_values\": 8,\n        \"samples\": [\n          39.25252442007738,\n          10.0,\n          230548.0\n        ],\n        \"semantic_type\": \"\",\n        \"description\": \"\"\n      }\n    },\n    {\n      \"column\": \"UnitPrice\",\n      \"properties\": {\n        \"dtype\": \"number\",\n        \"std\": 81405.1577105313,\n        \"min\": 0.66,\n        \"max\": 230548.0,\n        \"num_unique_values\": 8,\n        \"samples\": [\n          45.53936091399622,\n          18.0,\n          230548.0\n        ],\n        \"semantic_type\": \"\",\n        \"description\": \"\"\n      }\n    },\n    {\n      \"column\": \"TaxRate\",\n      \"properties\": {\n        \"dtype\": \"number\",\n        \"std\": 81507.82723403964,\n        \"min\": -15.0,\n        \"max\": 230548.0,\n        \"num_unique_values\": 5,\n        \"samples\": [\n          14.463408921352602,\n          15.0,\n          3.90405649194504\n        ],\n        \"semantic_type\": \"\",\n        \"description\": \"\"\n      }\n    },\n    {\n      \"column\": \"TaxAmount\",\n      \"properties\": {\n        \"dtype\": \"number\",\n        \"std\": 38331.03776869645,\n        \"min\": 0.38,\n        \"max\": 109623.0,\n        \"num_unique_values\": 8,\n        \"samples\": [\n          113.3280061665891,\n          34.5,\n          109623.0\n        ],\n        \"semantic_type\": \"\",\n        \"description\": \"\"\n      }\n    },\n    {\n      \"column\": \"LineProfit\",\n      \"properties\": {\n        \"dtype\": \"number\",\n        \"std\": 81056.13710153813,\n        \"min\": -645.0,\n        \"max\": 230548.0,\n        \"num_unique_values\": 8,\n        \"samples\": [\n          375.3889396134428,\n          120.0,\n          230548.0\n        ],\n        \"semantic_type\": \"\",\n        \"description\": \"\"\n      }\n    },\n    {\n      \"column\": \"ExtendedPrice\",\n      \"properties\": {\n        \"dtype\": \"number\",\n        \"std\": 52579.287959591384,\n        \"min\": -999.0,\n        \"max\": 114954.0,\n        \"num_unique_values\": 8,\n        \"samples\": [\n          740.0926255515956,\n          248.4,\n          113081.0\n        ],\n        \"semantic_type\": \"\",\n        \"description\": \"\"\n      }\n    },\n    {\n      \"column\": \"LastEditedBy\",\n      \"properties\": {\n        \"dtype\": \"number\",\n        \"std\": 81507.42559857415,\n        \"min\": 2.0,\n        \"max\": 230548.0,\n        \"num_unique_values\": 8,\n        \"samples\": [\n          10.800479726564534,\n          11.0,\n          230548.0\n        ],\n        \"semantic_type\": \"\",\n        \"description\": \"\"\n      }\n    }\n  ]\n}"
            }
          },
          "metadata": {},
          "execution_count": 3
        }
      ]
    },
    {
      "cell_type": "code",
      "source": [
        "df['Customer'].unique()"
      ],
      "metadata": {
        "colab": {
          "base_uri": "https://localhost:8080/"
        },
        "id": "_AufBSZMjofb",
        "outputId": "21b29036-8ebd-4c86-f4d1-9f21f5fcd8bd"
      },
      "execution_count": null,
      "outputs": [
        {
          "output_type": "execute_result",
          "data": {
            "text/plain": [
              "array(['Stuff by Stew', 'Wholesaler Plus', 'Big Buys Retail',\n",
              "       \"Terry's Trinkets\", 'Stuf by Stew', 'stuff by stew',\n",
              "       \"Terry's Trinket\", 'Dennis Distribution'], dtype=object)"
            ]
          },
          "metadata": {},
          "execution_count": 4
        }
      ]
    },
    {
      "cell_type": "code",
      "source": [
        "df['InvoiceID'].unique()"
      ],
      "metadata": {
        "colab": {
          "base_uri": "https://localhost:8080/"
        },
        "id": "Y5Zn8OXBkw0I",
        "outputId": "a20e8997-88c8-48d9-da43-ce3aab94b574"
      },
      "execution_count": null,
      "outputs": [
        {
          "output_type": "execute_result",
          "data": {
            "text/plain": [
              "array([    1,     2,     3, ..., 70508, 70509, 70510])"
            ]
          },
          "metadata": {},
          "execution_count": 5
        }
      ]
    },
    {
      "cell_type": "code",
      "source": [
        "df['InvoiceID'].value_counts()"
      ],
      "metadata": {
        "colab": {
          "base_uri": "https://localhost:8080/",
          "height": 490
        },
        "id": "xjxHbEcKlpVU",
        "outputId": "9a8cb3de-c27d-4417-f350-d61606d00680"
      },
      "execution_count": null,
      "outputs": [
        {
          "output_type": "execute_result",
          "data": {
            "text/plain": [
              "InvoiceID\n",
              "62574    7\n",
              "21854    7\n",
              "61806    7\n",
              "47405    7\n",
              "8524     7\n",
              "        ..\n",
              "12018    1\n",
              "12013    1\n",
              "38       1\n",
              "37       1\n",
              "33       1\n",
              "Name: count, Length: 70510, dtype: int64"
            ],
            "text/html": [
              "<div>\n",
              "<style scoped>\n",
              "    .dataframe tbody tr th:only-of-type {\n",
              "        vertical-align: middle;\n",
              "    }\n",
              "\n",
              "    .dataframe tbody tr th {\n",
              "        vertical-align: top;\n",
              "    }\n",
              "\n",
              "    .dataframe thead th {\n",
              "        text-align: right;\n",
              "    }\n",
              "</style>\n",
              "<table border=\"1\" class=\"dataframe\">\n",
              "  <thead>\n",
              "    <tr style=\"text-align: right;\">\n",
              "      <th></th>\n",
              "      <th>count</th>\n",
              "    </tr>\n",
              "    <tr>\n",
              "      <th>InvoiceID</th>\n",
              "      <th></th>\n",
              "    </tr>\n",
              "  </thead>\n",
              "  <tbody>\n",
              "    <tr>\n",
              "      <th>62574</th>\n",
              "      <td>7</td>\n",
              "    </tr>\n",
              "    <tr>\n",
              "      <th>21854</th>\n",
              "      <td>7</td>\n",
              "    </tr>\n",
              "    <tr>\n",
              "      <th>61806</th>\n",
              "      <td>7</td>\n",
              "    </tr>\n",
              "    <tr>\n",
              "      <th>47405</th>\n",
              "      <td>7</td>\n",
              "    </tr>\n",
              "    <tr>\n",
              "      <th>8524</th>\n",
              "      <td>7</td>\n",
              "    </tr>\n",
              "    <tr>\n",
              "      <th>...</th>\n",
              "      <td>...</td>\n",
              "    </tr>\n",
              "    <tr>\n",
              "      <th>12018</th>\n",
              "      <td>1</td>\n",
              "    </tr>\n",
              "    <tr>\n",
              "      <th>12013</th>\n",
              "      <td>1</td>\n",
              "    </tr>\n",
              "    <tr>\n",
              "      <th>38</th>\n",
              "      <td>1</td>\n",
              "    </tr>\n",
              "    <tr>\n",
              "      <th>37</th>\n",
              "      <td>1</td>\n",
              "    </tr>\n",
              "    <tr>\n",
              "      <th>33</th>\n",
              "      <td>1</td>\n",
              "    </tr>\n",
              "  </tbody>\n",
              "</table>\n",
              "<p>70510 rows × 1 columns</p>\n",
              "</div><br><label><b>dtype:</b> int64</label>"
            ]
          },
          "metadata": {},
          "execution_count": 6
        }
      ]
    },
    {
      "cell_type": "code",
      "source": [
        "df['Customer']=df['Customer'].replace({'Stuf by Stew':'Stuff by Stew', 'stuff by stew':'Stuff by Stew'})"
      ],
      "metadata": {
        "id": "gmbVU_8bmvzD"
      },
      "execution_count": null,
      "outputs": []
    },
    {
      "cell_type": "code",
      "source": [
        "df['Customer'] = df['Customer'].replace({'Terry\\'s Trinket': 'Terry\\'s Trinkets'})"
      ],
      "metadata": {
        "id": "KHtzAgDAnhXc"
      },
      "execution_count": null,
      "outputs": []
    },
    {
      "cell_type": "code",
      "source": [
        "df['Customer'].value_counts()"
      ],
      "metadata": {
        "colab": {
          "base_uri": "https://localhost:8080/",
          "height": 272
        },
        "id": "zTV2t1RBl3Ro",
        "outputId": "77c0b391-a6a9-4996-bd4b-ca17d2d06545"
      },
      "execution_count": null,
      "outputs": [
        {
          "output_type": "execute_result",
          "data": {
            "text/plain": [
              "Customer\n",
              "Stuff by Stew          101804\n",
              "Terry's Trinkets        95076\n",
              "Wholesaler Plus         15735\n",
              "Big Buys Retail         13461\n",
              "Dennis Distribution      4472\n",
              "Name: count, dtype: int64"
            ],
            "text/html": [
              "<div>\n",
              "<style scoped>\n",
              "    .dataframe tbody tr th:only-of-type {\n",
              "        vertical-align: middle;\n",
              "    }\n",
              "\n",
              "    .dataframe tbody tr th {\n",
              "        vertical-align: top;\n",
              "    }\n",
              "\n",
              "    .dataframe thead th {\n",
              "        text-align: right;\n",
              "    }\n",
              "</style>\n",
              "<table border=\"1\" class=\"dataframe\">\n",
              "  <thead>\n",
              "    <tr style=\"text-align: right;\">\n",
              "      <th></th>\n",
              "      <th>count</th>\n",
              "    </tr>\n",
              "    <tr>\n",
              "      <th>Customer</th>\n",
              "      <th></th>\n",
              "    </tr>\n",
              "  </thead>\n",
              "  <tbody>\n",
              "    <tr>\n",
              "      <th>Stuff by Stew</th>\n",
              "      <td>101804</td>\n",
              "    </tr>\n",
              "    <tr>\n",
              "      <th>Terry's Trinkets</th>\n",
              "      <td>95076</td>\n",
              "    </tr>\n",
              "    <tr>\n",
              "      <th>Wholesaler Plus</th>\n",
              "      <td>15735</td>\n",
              "    </tr>\n",
              "    <tr>\n",
              "      <th>Big Buys Retail</th>\n",
              "      <td>13461</td>\n",
              "    </tr>\n",
              "    <tr>\n",
              "      <th>Dennis Distribution</th>\n",
              "      <td>4472</td>\n",
              "    </tr>\n",
              "  </tbody>\n",
              "</table>\n",
              "</div><br><label><b>dtype:</b> int64</label>"
            ]
          },
          "metadata": {},
          "execution_count": 9
        }
      ]
    },
    {
      "cell_type": "markdown",
      "source": [
        "# 7-How to find null values in the LastEditedWhen column"
      ],
      "metadata": {
        "id": "dw2Z8rkzMRki"
      }
    },
    {
      "cell_type": "code",
      "source": [
        "df['LastEditedWhen'].value_counts()"
      ],
      "metadata": {
        "colab": {
          "base_uri": "https://localhost:8080/",
          "height": 210
        },
        "id": "QuDkSKEvmEVP",
        "outputId": "da835cc0-70e1-4f50-f977-947c1f3893f2"
      },
      "execution_count": null,
      "outputs": [
        {
          "output_type": "execute_result",
          "data": {
            "text/plain": [
              "LastEditedWhen\n",
              "1/1/2013 12:00     4\n",
              "7/10/2015 12:00    1\n",
              "5/31/2016 12:00    1\n",
              "Name: count, dtype: int64"
            ],
            "text/html": [
              "<div>\n",
              "<style scoped>\n",
              "    .dataframe tbody tr th:only-of-type {\n",
              "        vertical-align: middle;\n",
              "    }\n",
              "\n",
              "    .dataframe tbody tr th {\n",
              "        vertical-align: top;\n",
              "    }\n",
              "\n",
              "    .dataframe thead th {\n",
              "        text-align: right;\n",
              "    }\n",
              "</style>\n",
              "<table border=\"1\" class=\"dataframe\">\n",
              "  <thead>\n",
              "    <tr style=\"text-align: right;\">\n",
              "      <th></th>\n",
              "      <th>count</th>\n",
              "    </tr>\n",
              "    <tr>\n",
              "      <th>LastEditedWhen</th>\n",
              "      <th></th>\n",
              "    </tr>\n",
              "  </thead>\n",
              "  <tbody>\n",
              "    <tr>\n",
              "      <th>1/1/2013 12:00</th>\n",
              "      <td>4</td>\n",
              "    </tr>\n",
              "    <tr>\n",
              "      <th>7/10/2015 12:00</th>\n",
              "      <td>1</td>\n",
              "    </tr>\n",
              "    <tr>\n",
              "      <th>5/31/2016 12:00</th>\n",
              "      <td>1</td>\n",
              "    </tr>\n",
              "  </tbody>\n",
              "</table>\n",
              "</div><br><label><b>dtype:</b> int64</label>"
            ]
          },
          "metadata": {},
          "execution_count": 10
        }
      ]
    },
    {
      "cell_type": "code",
      "source": [
        "# Check for null values using isnull() and sum()\n",
        "null_count = df['LastEditedWhen'].isnull().sum()\n",
        "print(f\"Number of null values in 'LastEditedWhen': {null_count}\")\n",
        "\n"
      ],
      "metadata": {
        "colab": {
          "base_uri": "https://localhost:8080/"
        },
        "id": "SFae7y2gKnOa",
        "outputId": "857520b5-c51f-433d-9a79-24c115ddd3b0"
      },
      "execution_count": null,
      "outputs": [
        {
          "output_type": "stream",
          "name": "stdout",
          "text": [
            "Number of null values in 'LastEditedWhen': 230542\n"
          ]
        }
      ]
    },
    {
      "cell_type": "code",
      "source": [
        "# Get unique values excluding nulls (if any)\n",
        "unique_values = df['LastEditedWhen'].dropna().unique()\n",
        "print(\"Unique values (excluding nulls):\", unique_values)"
      ],
      "metadata": {
        "colab": {
          "base_uri": "https://localhost:8080/"
        },
        "id": "H9tNAgpNKtoK",
        "outputId": "e8ef0cb0-789e-471f-8e6a-a30bb5ac8c5f"
      },
      "execution_count": null,
      "outputs": [
        {
          "output_type": "stream",
          "name": "stdout",
          "text": [
            "Unique values (excluding nulls): ['1/1/2013 12:00' '7/10/2015 12:00' '5/31/2016 12:00']\n"
          ]
        }
      ]
    },
    {
      "cell_type": "code",
      "source": [
        "# how do i drop the column LastEditedWhen?\n",
        "df.drop(columns=['LastEditedWhen'], inplace=True)"
      ],
      "metadata": {
        "id": "GYEXqcebLYIg"
      },
      "execution_count": null,
      "outputs": []
    },
    {
      "cell_type": "code",
      "source": [
        "df.info()"
      ],
      "metadata": {
        "colab": {
          "base_uri": "https://localhost:8080/"
        },
        "id": "Mse_zgufL6AK",
        "outputId": "6ef9955a-a2b3-4eed-92b8-b311b97e9727"
      },
      "execution_count": null,
      "outputs": [
        {
          "output_type": "stream",
          "name": "stdout",
          "text": [
            "<class 'pandas.core.frame.DataFrame'>\n",
            "RangeIndex: 230548 entries, 0 to 230547\n",
            "Data columns (total 13 columns):\n",
            " #   Column         Non-Null Count   Dtype  \n",
            "---  ------         --------------   -----  \n",
            " 0   InvoiceLineID  230548 non-null  int64  \n",
            " 1   InvoiceID      230548 non-null  int64  \n",
            " 2   StockItemID    230087 non-null  float64\n",
            " 3   Description    229876 non-null  object \n",
            " 4   PackageTypeID  230548 non-null  int64  \n",
            " 5   Quantity       230548 non-null  int64  \n",
            " 6   UnitPrice      230548 non-null  float64\n",
            " 7   TaxRate        230548 non-null  int64  \n",
            " 8   TaxAmount      109623 non-null  float64\n",
            " 9   LineProfit     230548 non-null  float64\n",
            " 10  ExtendedPrice  113081 non-null  float64\n",
            " 11  LastEditedBy   230548 non-null  int64  \n",
            " 12  Customer       230548 non-null  object \n",
            "dtypes: float64(5), int64(6), object(2)\n",
            "memory usage: 22.9+ MB\n"
          ]
        }
      ]
    },
    {
      "cell_type": "markdown",
      "source": [
        "8- Observe the columns StockItemID and Description. Notice that StockItemID is a single number, and each number has a corresponding Description. Thus, by knowing the StockItemID of a row, its Description can be imputed. However, if both the StockItemID and Description are missing, the item is unknown."
      ],
      "metadata": {
        "id": "-Mvx4b2_Ncf-"
      }
    },
    {
      "cell_type": "code",
      "source": [
        "# how many rows have both a null StockItemID and a null Description?\n",
        "null_count = df['StockItemID'].isnull().sum()\n",
        "print(f\"Number of null values in 'StockItemID': {null_count}\")\n",
        "\n"
      ],
      "metadata": {
        "colab": {
          "base_uri": "https://localhost:8080/"
        },
        "id": "PPGljj3CL-r-",
        "outputId": "e974311b-4e85-4d72-ac40-88b6f55a4668"
      },
      "execution_count": null,
      "outputs": [
        {
          "output_type": "stream",
          "name": "stdout",
          "text": [
            "Number of null values in 'StockItemID': 461\n"
          ]
        }
      ]
    },
    {
      "cell_type": "code",
      "source": [],
      "metadata": {
        "id": "DWdZAw9ZORr1"
      },
      "execution_count": null,
      "outputs": []
    },
    {
      "cell_type": "code",
      "source": [
        "# how many rows have both a null StockItemID and a null Description?\n",
        "null_count = df['Description'].isnull().sum()\n",
        "print(f\"Number of null values in 'Description': {null_count}\")\n",
        "\n"
      ],
      "metadata": {
        "colab": {
          "base_uri": "https://localhost:8080/"
        },
        "outputId": "a5c40e04-ad1c-46bd-cbb9-7514e55c0af9",
        "id": "Ieg8nFvJOVN-"
      },
      "execution_count": null,
      "outputs": [
        {
          "output_type": "stream",
          "name": "stdout",
          "text": [
            "Number of null values in 'Description': 672\n"
          ]
        }
      ]
    },
    {
      "cell_type": "code",
      "source": [
        "# how many rows have both a null StockItemID and a null Description?\n",
        "null_count = df[(df['Description'].isnull()) & (df['StockItemID'].isnull())].shape[0]\n",
        "print(f\"Number of null values in 'Description','StockItemID: {null_count}\")"
      ],
      "metadata": {
        "colab": {
          "base_uri": "https://localhost:8080/"
        },
        "id": "Nbpi-2r5Ol-O",
        "outputId": "500349ea-5a55-491c-db2b-a6a7ef2dc72c"
      },
      "execution_count": null,
      "outputs": [
        {
          "output_type": "stream",
          "name": "stdout",
          "text": [
            "Number of null values in 'Description','StockItemID: 461\n"
          ]
        }
      ]
    },
    {
      "cell_type": "markdown",
      "source": [
        "9- Observe the rows that have both a null StockItemID and a null Description. Based on the number of null values and the questions asked by the executives, what do you recommend doing to remove null values from these columns?"
      ],
      "metadata": {
        "id": "XT6A9pY_PAz_"
      }
    },
    {
      "cell_type": "code",
      "source": [
        "how do i drop rows containing null values in columns StockItemID and Description?"
      ],
      "metadata": {
        "colab": {
          "base_uri": "https://localhost:8080/"
        },
        "id": "ru3FH858PFpN",
        "outputId": "8d1b16fc-ec8f-44d0-b331-4869053113a9"
      },
      "execution_count": null,
      "outputs": [
        {
          "output_type": "stream",
          "name": "stdout",
          "text": [
            "Object `Description` not found.\n"
          ]
        }
      ]
    },
    {
      "cell_type": "markdown",
      "source": [
        "10- Perform the action that you recommended above. How many rows are left in the data frame?"
      ],
      "metadata": {
        "id": "epDi5J8EQ5lD"
      }
    },
    {
      "cell_type": "code",
      "source": [
        "# Drop rows with null values in 'column1' and 'column2'\n",
        "df.dropna(subset=['StockItemID', 'Description'], inplace=True)\n",
        "\n",
        "# Verify the result\n",
        "#print(df_cleaned.head(50))\n"
      ],
      "metadata": {
        "id": "HSAApCorP7X1"
      },
      "execution_count": null,
      "outputs": []
    },
    {
      "cell_type": "code",
      "source": [
        "df.info()"
      ],
      "metadata": {
        "colab": {
          "base_uri": "https://localhost:8080/"
        },
        "id": "uhKkXKc6QJpF",
        "outputId": "df76b645-a951-4672-bb69-5a2348763316"
      },
      "execution_count": null,
      "outputs": [
        {
          "output_type": "stream",
          "name": "stdout",
          "text": [
            "<class 'pandas.core.frame.DataFrame'>\n",
            "Index: 229876 entries, 0 to 230547\n",
            "Data columns (total 13 columns):\n",
            " #   Column         Non-Null Count   Dtype  \n",
            "---  ------         --------------   -----  \n",
            " 0   InvoiceLineID  229876 non-null  int64  \n",
            " 1   InvoiceID      229876 non-null  int64  \n",
            " 2   StockItemID    229876 non-null  float64\n",
            " 3   Description    229876 non-null  object \n",
            " 4   PackageTypeID  229876 non-null  int64  \n",
            " 5   Quantity       229876 non-null  int64  \n",
            " 6   UnitPrice      229876 non-null  float64\n",
            " 7   TaxRate        229876 non-null  int64  \n",
            " 8   TaxAmount      109311 non-null  float64\n",
            " 9   LineProfit     229876 non-null  float64\n",
            " 10  ExtendedPrice  112751 non-null  float64\n",
            " 11  LastEditedBy   229876 non-null  int64  \n",
            " 12  Customer       229876 non-null  object \n",
            "dtypes: float64(5), int64(6), object(2)\n",
            "memory usage: 24.6+ MB\n"
          ]
        }
      ]
    },
    {
      "cell_type": "markdown",
      "source": [
        "11- Observe the TaxRate column, which contains some negative values. Based on your domain knowledge and best guess of what tax rates should be, which of the following actions might you recommend for preparing this data set for analysis?"
      ],
      "metadata": {
        "id": "NelpT8waQlNl"
      }
    },
    {
      "cell_type": "code",
      "source": [
        "# how do i see the column for TaxRate?\n",
        "df['TaxRate']"
      ],
      "metadata": {
        "colab": {
          "base_uri": "https://localhost:8080/",
          "height": 458
        },
        "id": "xoPc47mVQtCr",
        "outputId": "5d50d733-6b48-45dc-eceb-7326b08338d8"
      },
      "execution_count": null,
      "outputs": [
        {
          "output_type": "execute_result",
          "data": {
            "text/plain": [
              "0         15\n",
              "1         15\n",
              "2         15\n",
              "3         15\n",
              "4         15\n",
              "          ..\n",
              "230543    15\n",
              "230544    15\n",
              "230545    15\n",
              "230546    15\n",
              "230547    15\n",
              "Name: TaxRate, Length: 229876, dtype: int64"
            ],
            "text/html": [
              "<div>\n",
              "<style scoped>\n",
              "    .dataframe tbody tr th:only-of-type {\n",
              "        vertical-align: middle;\n",
              "    }\n",
              "\n",
              "    .dataframe tbody tr th {\n",
              "        vertical-align: top;\n",
              "    }\n",
              "\n",
              "    .dataframe thead th {\n",
              "        text-align: right;\n",
              "    }\n",
              "</style>\n",
              "<table border=\"1\" class=\"dataframe\">\n",
              "  <thead>\n",
              "    <tr style=\"text-align: right;\">\n",
              "      <th></th>\n",
              "      <th>TaxRate</th>\n",
              "    </tr>\n",
              "  </thead>\n",
              "  <tbody>\n",
              "    <tr>\n",
              "      <th>0</th>\n",
              "      <td>15</td>\n",
              "    </tr>\n",
              "    <tr>\n",
              "      <th>1</th>\n",
              "      <td>15</td>\n",
              "    </tr>\n",
              "    <tr>\n",
              "      <th>2</th>\n",
              "      <td>15</td>\n",
              "    </tr>\n",
              "    <tr>\n",
              "      <th>3</th>\n",
              "      <td>15</td>\n",
              "    </tr>\n",
              "    <tr>\n",
              "      <th>4</th>\n",
              "      <td>15</td>\n",
              "    </tr>\n",
              "    <tr>\n",
              "      <th>...</th>\n",
              "      <td>...</td>\n",
              "    </tr>\n",
              "    <tr>\n",
              "      <th>230543</th>\n",
              "      <td>15</td>\n",
              "    </tr>\n",
              "    <tr>\n",
              "      <th>230544</th>\n",
              "      <td>15</td>\n",
              "    </tr>\n",
              "    <tr>\n",
              "      <th>230545</th>\n",
              "      <td>15</td>\n",
              "    </tr>\n",
              "    <tr>\n",
              "      <th>230546</th>\n",
              "      <td>15</td>\n",
              "    </tr>\n",
              "    <tr>\n",
              "      <th>230547</th>\n",
              "      <td>15</td>\n",
              "    </tr>\n",
              "  </tbody>\n",
              "</table>\n",
              "<p>229876 rows × 1 columns</p>\n",
              "</div><br><label><b>dtype:</b> int64</label>"
            ]
          },
          "metadata": {},
          "execution_count": 21
        }
      ]
    },
    {
      "cell_type": "markdown",
      "source": [
        "12- Perform the action that you recommended above. What is the average TaxRate?"
      ],
      "metadata": {
        "id": "hU4ikt-CSImx"
      }
    },
    {
      "cell_type": "code",
      "source": [
        "# how do i Change all negative values in taxrate?\n",
        "df['TaxRate'] = df['TaxRate'].abs()"
      ],
      "metadata": {
        "id": "ZKgb7i7bRwky"
      },
      "execution_count": null,
      "outputs": []
    },
    {
      "cell_type": "code",
      "source": [
        "df['TaxRate'].mean()"
      ],
      "metadata": {
        "colab": {
          "base_uri": "https://localhost:8080/"
        },
        "id": "dB4BOL3CR5f6",
        "outputId": "79565632-879b-4c93-e845-b6987b252bdf"
      },
      "execution_count": null,
      "outputs": [
        {
          "output_type": "execute_result",
          "data": {
            "text/plain": [
              "np.float64(14.977226852737997)"
            ]
          },
          "metadata": {},
          "execution_count": 23
        }
      ]
    },
    {
      "cell_type": "markdown",
      "source": [
        "13- Observe the column TaxAmount, which indicates the amount of tax paid for each invoice line. The TaxAmount can be calculated using the following formula:\n",
        "\n",
        "\n",
        "Based on this knowledge, the number of null values in the data set, and the questions being asked by the executives, what do you recommend doing to remove null values from this column?"
      ],
      "metadata": {
        "id": "DR00l17vSM1q"
      }
    },
    {
      "cell_type": "code",
      "source": [
        "df['TaxAmount'].isnull().sum()"
      ],
      "metadata": {
        "colab": {
          "base_uri": "https://localhost:8080/"
        },
        "id": "2vPSdJoRSbzC",
        "outputId": "afa710e1-7adf-4210-f5fc-6dcd944468d5"
      },
      "execution_count": null,
      "outputs": [
        {
          "output_type": "execute_result",
          "data": {
            "text/plain": [
              "np.int64(120565)"
            ]
          },
          "metadata": {},
          "execution_count": 24
        }
      ]
    },
    {
      "cell_type": "code",
      "source": [
        "df['TaxAmount'].fillna((df['UnitPrice']*df['Quantity']*df['TaxRate'])/100, inplace=True)"
      ],
      "metadata": {
        "id": "x1R0FdTXYEx2",
        "colab": {
          "base_uri": "https://localhost:8080/"
        },
        "outputId": "0f75a5ae-b530-4009-f5f0-d6c54007da61"
      },
      "execution_count": null,
      "outputs": [
        {
          "output_type": "stream",
          "name": "stderr",
          "text": [
            "<ipython-input-25-70fa8c6102bc>:1: FutureWarning: A value is trying to be set on a copy of a DataFrame or Series through chained assignment using an inplace method.\n",
            "The behavior will change in pandas 3.0. This inplace method will never work because the intermediate object on which we are setting values always behaves as a copy.\n",
            "\n",
            "For example, when doing 'df[col].method(value, inplace=True)', try using 'df.method({col: value}, inplace=True)' or df[col] = df[col].method(value) instead, to perform the operation inplace on the original object.\n",
            "\n",
            "\n",
            "  df['TaxAmount'].fillna((df['UnitPrice']*df['Quantity']*df['TaxRate'])/100, inplace=True)\n"
          ]
        }
      ]
    },
    {
      "cell_type": "code",
      "source": [
        "# how to remove null values in TaxAmount column?\n",
        "# df.dropna(subset=['TaxAmount'], inplace=True)"
      ],
      "metadata": {
        "id": "cQDW8JQOSs2Q"
      },
      "execution_count": null,
      "outputs": []
    },
    {
      "cell_type": "markdown",
      "source": [
        "14- Perform the action that you recommended above. What is the average TaxAmount after removing the null values?"
      ],
      "metadata": {
        "id": "sKKu3XBETg4R"
      }
    },
    {
      "cell_type": "code",
      "source": [
        "# how do i find the average in TaxAmount column?\n",
        "df['TaxAmount'].mean()\n"
      ],
      "metadata": {
        "colab": {
          "base_uri": "https://localhost:8080/"
        },
        "id": "ibqndmqfS22_",
        "outputId": "eccee109-f24f-44d5-bb9e-ade5e29b48f4"
      },
      "execution_count": null,
      "outputs": [
        {
          "output_type": "execute_result",
          "data": {
            "text/plain": [
              "np.float64(112.95172419043314)"
            ]
          },
          "metadata": {},
          "execution_count": 27
        }
      ]
    },
    {
      "cell_type": "markdown",
      "source": [
        "15- Observe the column ExtendedPrice, which indicates the total price paid by the customer. The ExtendedPrice can be calculated using the following formula:\n",
        "\n",
        "\n",
        "Based on this knowledge, the number of null values in the data set, and the questions being asked by the executives, what do you recommend doing to remove null values from this column?"
      ],
      "metadata": {
        "id": "MfW2zpg2TrtZ"
      }
    },
    {
      "cell_type": "code",
      "source": [
        "# df.dropna(subset=['ExtendedPrice'], inplace=True)"
      ],
      "metadata": {
        "id": "FpRohKp4ToG-"
      },
      "execution_count": null,
      "outputs": []
    },
    {
      "cell_type": "markdown",
      "source": [
        "16- Perform the action that you recommended above. Treat the values of -999 as an input error and perform the recommended action on that value as well. After addressing these issues, what is the average ExtendedPrice?"
      ],
      "metadata": {
        "id": "9GtNzMHgZTxh"
      }
    },
    {
      "cell_type": "code",
      "source": [
        "df['ExtendedPrice'].fillna((df['UnitPrice']*df['Quantity'])+df['TaxAmount'], inplace=True)"
      ],
      "metadata": {
        "id": "Kc9mecBDUZFQ",
        "colab": {
          "base_uri": "https://localhost:8080/"
        },
        "outputId": "e35f56c6-8eae-4da2-8ffc-bdec9d7a28a2"
      },
      "execution_count": null,
      "outputs": [
        {
          "output_type": "stream",
          "name": "stderr",
          "text": [
            "<ipython-input-29-983039010431>:1: FutureWarning: A value is trying to be set on a copy of a DataFrame or Series through chained assignment using an inplace method.\n",
            "The behavior will change in pandas 3.0. This inplace method will never work because the intermediate object on which we are setting values always behaves as a copy.\n",
            "\n",
            "For example, when doing 'df[col].method(value, inplace=True)', try using 'df.method({col: value}, inplace=True)' or df[col] = df[col].method(value) instead, to perform the operation inplace on the original object.\n",
            "\n",
            "\n",
            "  df['ExtendedPrice'].fillna((df['UnitPrice']*df['Quantity'])+df['TaxAmount'], inplace=True)\n"
          ]
        }
      ]
    },
    {
      "cell_type": "code",
      "source": [
        "df['ExtendedPrice'].mean()"
      ],
      "metadata": {
        "colab": {
          "base_uri": "https://localhost:8080/"
        },
        "id": "ScZNMS2WbU3K",
        "outputId": "214ab2bf-2236-4a9c-a394-0ad5345ff6ee"
      },
      "execution_count": null,
      "outputs": [
        {
          "output_type": "execute_result",
          "data": {
            "text/plain": [
              "np.float64(803.8346782939498)"
            ]
          },
          "metadata": {},
          "execution_count": 30
        }
      ]
    },
    {
      "cell_type": "code",
      "source": [
        "#df.loc[df['ExtendedPrice'] == -999, df['ExtendedPrice']] = (df['UnitPrice']*df['Quantity'])+df['TaxAmount']"
      ],
      "metadata": {
        "id": "5DqYE_pYTo9B"
      },
      "execution_count": null,
      "outputs": []
    },
    {
      "cell_type": "code",
      "source": [
        "df.loc[(df['ExtendedPrice'] == -999),'ExtendedPrice'] = ((df['UnitPrice'] * df['Quantity']) + df['TaxAmount'])"
      ],
      "metadata": {
        "id": "1E-SbOUPWvrq"
      },
      "execution_count": null,
      "outputs": []
    },
    {
      "cell_type": "code",
      "source": [
        "# # how do i make an if statement to change -999 to (df['UnitPrice']*df['Quantity'])+df['TaxAmount'])?\n",
        "# df['ExtendedPrice'] = df['ExtendedPrice'].apply(lambda x: (df['UnitPrice']*df['Quantity'])+df['TaxAmount'] if x == -999 else x)\n"
      ],
      "metadata": {
        "id": "ISc4_oyjc-NO"
      },
      "execution_count": null,
      "outputs": []
    },
    {
      "cell_type": "code",
      "source": [
        "# df['ExtendedPrice'] = df.apply(lambda row: (row['UnitPrice'] * row['Quantity']) + row['TaxAmount'], axis=1)"
      ],
      "metadata": {
        "id": "5f4J2ulodxV2"
      },
      "execution_count": null,
      "outputs": []
    },
    {
      "cell_type": "code",
      "source": [
        "df['ExtendedPrice'].mean()"
      ],
      "metadata": {
        "id": "GNkLM5qMeZvp",
        "colab": {
          "base_uri": "https://localhost:8080/"
        },
        "outputId": "4bb7b5bc-6ddb-4211-d519-56f857d61cdf"
      },
      "execution_count": null,
      "outputs": [
        {
          "output_type": "execute_result",
          "data": {
            "text/plain": [
              "np.float64(867.6354556369522)"
            ]
          },
          "metadata": {},
          "execution_count": 35
        }
      ]
    },
    {
      "cell_type": "markdown",
      "source": [
        "17- Observe values in the Quantity and ExtendedPrice columns. Use the z-score method with a threshold of 3 to determine which rows are outliers in these columns. Make sure that you get rows that have a z-score greater than or equal to 3."
      ],
      "metadata": {
        "id": "xC2vWo_AeqFI"
      }
    },
    {
      "cell_type": "code",
      "source": [
        "# Load your dataset\n",
        "#df = pd.read_csv('your_dataset.csv')\n",
        "\n",
        "df['Quantity_zscore'] = (df['Quantity'] - df['Quantity'].mean()) / df['Quantity'].std()\n",
        "df['ExtendedPrice_zscore'] = (df['ExtendedPrice'] - df['ExtendedPrice'].mean()) / df['ExtendedPrice'].std()\n",
        "# # Calculate Z-scores for a specific column\n",
        "# df['z_score'] = stats.zscore(df['your_column'])\n",
        "\n",
        "# # Identify outliers\n",
        "# outliers = df[np.abs(df['z_score']) > 3]\n",
        "\n",
        "# # Remove outliers\n",
        "# df_cleaned = df[np.abs(df['z_score']) <= 3]\n",
        "\n",
        "# # Display the cleaned DataFrame\n",
        "# print(df_cleaned)"
      ],
      "metadata": {
        "id": "rkv7R511e2Pl"
      },
      "execution_count": null,
      "outputs": []
    },
    {
      "cell_type": "code",
      "source": [
        "# # Calculate Z-scores for a specific column\n",
        "# from scipy.stats import zscore\n",
        "# df['z_score'] = zscore(df['ExtendedPrice'])\n",
        "# print(df['z_score'])"
      ],
      "metadata": {
        "id": "XIRhK0BUM4UH"
      },
      "execution_count": null,
      "outputs": []
    },
    {
      "cell_type": "code",
      "source": [
        "# from scipy.stats import zscore\n",
        "# df['z_score'] = zscore(df['Quantity'])\n",
        "# print(df['z_score'])"
      ],
      "metadata": {
        "id": "deBkJ3tvOeht"
      },
      "execution_count": null,
      "outputs": []
    },
    {
      "cell_type": "code",
      "source": [
        "# # Identify outliers\n",
        "# outliers = df[abs(df['z_score']) >= 3]\n",
        "# print(outliers)"
      ],
      "metadata": {
        "id": "N6Nz_zoKNX8E"
      },
      "execution_count": null,
      "outputs": []
    },
    {
      "cell_type": "code",
      "source": [
        "# # Remove outliers\n",
        "# df_cleaned = df[abs(df['z_score']) <= 3]\n",
        "# print(df_cleaned)"
      ],
      "metadata": {
        "id": "6lXfd5xANsiP"
      },
      "execution_count": null,
      "outputs": []
    },
    {
      "cell_type": "markdown",
      "source": [
        "17- Observe values in the Quantity and ExtendedPrice columns. Use the z-score method with a threshold of 3 to determine which rows are outliers in these columns. Make sure that you get rows that have a z-score greater than or equal to 3.\n",
        "\n",
        "Based on the Quantity column, how many rows could be considered outliers?"
      ],
      "metadata": {
        "id": "mslrrXXAXuF0"
      }
    },
    {
      "cell_type": "code",
      "source": [
        "df[df['Quantity_zscore'] >= 3].shape[0]"
      ],
      "metadata": {
        "id": "-0Y_jjtzN-XA",
        "colab": {
          "base_uri": "https://localhost:8080/"
        },
        "outputId": "0e23f014-527a-4ba9-aaf4-51b783894bd7"
      },
      "execution_count": null,
      "outputs": [
        {
          "output_type": "execute_result",
          "data": {
            "text/plain": [
              "5983"
            ]
          },
          "metadata": {},
          "execution_count": 41
        }
      ]
    },
    {
      "cell_type": "markdown",
      "source": [
        "18- Observe values in the Quantity and ExtendedPrice columns. Use the z-score method with a threshold of 3 to determine which rows are outliers in these columns. Make sure that you get rows that have a z-score greater than or equal to 3.\n",
        "\n",
        "Based on the ExtendedPrice column, how many rows could be considered outliers?"
      ],
      "metadata": {
        "id": "T4rV5kNJXuzV"
      }
    },
    {
      "cell_type": "code",
      "source": [
        "df[df['ExtendedPrice_zscore'] >= 3].shape[0]"
      ],
      "metadata": {
        "id": "p6fUIBv8USBk",
        "colab": {
          "base_uri": "https://localhost:8080/"
        },
        "outputId": "1c1ca877-dca8-43ac-90af-ea396a4a08c1"
      },
      "execution_count": null,
      "outputs": [
        {
          "output_type": "execute_result",
          "data": {
            "text/plain": [
              "4517"
            ]
          },
          "metadata": {},
          "execution_count": 42
        }
      ]
    },
    {
      "cell_type": "markdown",
      "source": [
        "20- The data set provided should have a unique ID for each invoice line, but there can be repeated invoice IDs. This is because several unique invoice lines can share the same invoice ID. Given this information, how would you approach checking for duplicate rows in the data set?"
      ],
      "metadata": {
        "id": "JUfglDI6YzQ0"
      }
    },
    {
      "cell_type": "code",
      "source": [
        "# how do i check for duplicates in the invoiceID column?\n",
        "#df['InvoiceID','InvoiceLineID'].duplicated().sum()"
      ],
      "metadata": {
        "id": "OottkOZUYERK"
      },
      "execution_count": null,
      "outputs": []
    },
    {
      "cell_type": "code",
      "source": [
        "# Correct syntax to access multiple columns and check for duplicates\n",
        "duplicated = df[ 'InvoiceLineID'].duplicated().sum()\n",
        "\n",
        "print(f\"Number of duplicate rows: {duplicated}\")"
      ],
      "metadata": {
        "colab": {
          "base_uri": "https://localhost:8080/"
        },
        "id": "e4qh4yUpZpZr",
        "outputId": "874485a1-b1a1-4b1f-e433-c826e9fdac33"
      },
      "execution_count": null,
      "outputs": [
        {
          "output_type": "stream",
          "name": "stdout",
          "text": [
            "Number of duplicate rows: 2269\n"
          ]
        }
      ]
    },
    {
      "cell_type": "code",
      "source": [
        "df['InvoiceID'].duplicated().sum()\n"
      ],
      "metadata": {
        "colab": {
          "base_uri": "https://localhost:8080/"
        },
        "id": "zmZynfgHZqRD",
        "outputId": "08a40a85-0b7a-463a-fee0-b42201bbb9a0"
      },
      "execution_count": null,
      "outputs": [
        {
          "output_type": "execute_result",
          "data": {
            "text/plain": [
              "np.int64(159382)"
            ]
          },
          "metadata": {},
          "execution_count": 51
        }
      ]
    },
    {
      "cell_type": "code",
      "source": [
        "df['InvoiceLineID'].duplicated().sum()"
      ],
      "metadata": {
        "colab": {
          "base_uri": "https://localhost:8080/"
        },
        "id": "Hr7iHdXzaful",
        "outputId": "ce321123-2d79-48ad-c61d-c6d3cbf38ea7"
      },
      "execution_count": null,
      "outputs": [
        {
          "output_type": "execute_result",
          "data": {
            "text/plain": [
              "np.int64(2269)"
            ]
          },
          "metadata": {},
          "execution_count": 54
        }
      ]
    },
    {
      "cell_type": "code",
      "source": [
        "df.drop_duplicates(subset=['InvoiceLineID'], inplace=True)\n",
        "df.shape"
      ],
      "metadata": {
        "colab": {
          "base_uri": "https://localhost:8080/"
        },
        "id": "an8ZFgBMawuW",
        "outputId": "a681e7c4-2d47-4375-ee0e-db976525bb5d"
      },
      "execution_count": null,
      "outputs": [
        {
          "output_type": "execute_result",
          "data": {
            "text/plain": [
              "(227607, 15)"
            ]
          },
          "metadata": {},
          "execution_count": 58
        }
      ]
    },
    {
      "cell_type": "markdown",
      "source": [
        "22- At this point, you should have a data set that is mostly free of null values (only has some null values in the Description column). Use this data set to answer the questions below.\n",
        "\n",
        "Which item has the highest total quantity sold? Use the Description and Quantity columns."
      ],
      "metadata": {
        "id": "EZRzJ3sKbyiw"
      }
    },
    {
      "cell_type": "code",
      "source": [
        "# Which item has the highest total quantity sold?\n",
        "df.groupby('Description')['Quantity'].sum().sort_values(ascending=False)"
      ],
      "metadata": {
        "colab": {
          "base_uri": "https://localhost:8080/",
          "height": 490
        },
        "id": "cGowm4jEbHmW",
        "outputId": "564d94a9-c67a-459f-ba57-9968e38f9651"
      },
      "execution_count": null,
      "outputs": [
        {
          "output_type": "execute_result",
          "data": {
            "text/plain": [
              "Description\n",
              "Black and orange fragile despatch tape 48mmx75m     207108\n",
              "Black and orange fragile despatch tape 48mmx100m    193572\n",
              "Clear packaging tape 48mmx75m                       158392\n",
              "3 kg Courier post bag (White) 300x190x95mm          154525\n",
              "Shipping carton (Brown) 356x356x279mm               151525\n",
              "                                                     ...  \n",
              "Superhero action jacket (Blue) L                      5450\n",
              "Superhero action jacket (Blue) S                      5405\n",
              "Superhero action jacket (Blue) XXL                    5404\n",
              "DBA joke mug - mind if I join you? (Black)            5388\n",
              "Superhero action jacket (Blue) XL                     5358\n",
              "Name: Quantity, Length: 227, dtype: int64"
            ],
            "text/html": [
              "<div>\n",
              "<style scoped>\n",
              "    .dataframe tbody tr th:only-of-type {\n",
              "        vertical-align: middle;\n",
              "    }\n",
              "\n",
              "    .dataframe tbody tr th {\n",
              "        vertical-align: top;\n",
              "    }\n",
              "\n",
              "    .dataframe thead th {\n",
              "        text-align: right;\n",
              "    }\n",
              "</style>\n",
              "<table border=\"1\" class=\"dataframe\">\n",
              "  <thead>\n",
              "    <tr style=\"text-align: right;\">\n",
              "      <th></th>\n",
              "      <th>Quantity</th>\n",
              "    </tr>\n",
              "    <tr>\n",
              "      <th>Description</th>\n",
              "      <th></th>\n",
              "    </tr>\n",
              "  </thead>\n",
              "  <tbody>\n",
              "    <tr>\n",
              "      <th>Black and orange fragile despatch tape 48mmx75m</th>\n",
              "      <td>207108</td>\n",
              "    </tr>\n",
              "    <tr>\n",
              "      <th>Black and orange fragile despatch tape 48mmx100m</th>\n",
              "      <td>193572</td>\n",
              "    </tr>\n",
              "    <tr>\n",
              "      <th>Clear packaging tape 48mmx75m</th>\n",
              "      <td>158392</td>\n",
              "    </tr>\n",
              "    <tr>\n",
              "      <th>3 kg Courier post bag (White) 300x190x95mm</th>\n",
              "      <td>154525</td>\n",
              "    </tr>\n",
              "    <tr>\n",
              "      <th>Shipping carton (Brown) 356x356x279mm</th>\n",
              "      <td>151525</td>\n",
              "    </tr>\n",
              "    <tr>\n",
              "      <th>...</th>\n",
              "      <td>...</td>\n",
              "    </tr>\n",
              "    <tr>\n",
              "      <th>Superhero action jacket (Blue) L</th>\n",
              "      <td>5450</td>\n",
              "    </tr>\n",
              "    <tr>\n",
              "      <th>Superhero action jacket (Blue) S</th>\n",
              "      <td>5405</td>\n",
              "    </tr>\n",
              "    <tr>\n",
              "      <th>Superhero action jacket (Blue) XXL</th>\n",
              "      <td>5404</td>\n",
              "    </tr>\n",
              "    <tr>\n",
              "      <th>DBA joke mug - mind if I join you? (Black)</th>\n",
              "      <td>5388</td>\n",
              "    </tr>\n",
              "    <tr>\n",
              "      <th>Superhero action jacket (Blue) XL</th>\n",
              "      <td>5358</td>\n",
              "    </tr>\n",
              "  </tbody>\n",
              "</table>\n",
              "<p>227 rows × 1 columns</p>\n",
              "</div><br><label><b>dtype:</b> int64</label>"
            ]
          },
          "metadata": {},
          "execution_count": 59
        }
      ]
    },
    {
      "cell_type": "markdown",
      "source": [
        "23- Which item has generated the most total profit? Use the Description and LineProfit columns."
      ],
      "metadata": {
        "id": "SjlvY_2icJ5a"
      }
    },
    {
      "cell_type": "code",
      "source": [
        "# Which item has generated the most total profit? Use the Description and LineProfit columns?\n",
        "df.groupby('Description')['LineProfit'].sum().sort_values(ascending=False)\n"
      ],
      "metadata": {
        "colab": {
          "base_uri": "https://localhost:8080/",
          "height": 490
        },
        "id": "1zmMuqL5cEJR",
        "outputId": "c1e5606c-bcc6-49c2-9033-49f03f3ccbf4"
      },
      "execution_count": null,
      "outputs": [
        {
          "output_type": "execute_result",
          "data": {
            "text/plain": [
              "Description\n",
              "20 mm Double sided bubble wrap 50m                    5283560.0\n",
              "Air cushion machine (Blue)                            4418898.0\n",
              "32 mm Anti static bubble wrap (Blue) 50m              3514220.0\n",
              "10 mm Anti static bubble wrap (Blue) 50m              3439800.0\n",
              "32 mm Double sided bubble wrap 50m                    2915530.0\n",
              "                                                        ...    \n",
              "Packing knife with metal insert blade (Yellow) 9mm      29888.1\n",
              "Halloween zombie mask (Light Brown) L                  -63816.0\n",
              "Halloween zombie mask (Light Brown) M                  -66444.0\n",
              "Halloween zombie mask (Light Brown) S                  -70788.0\n",
              "Halloween zombie mask (Light Brown) XL                 -72264.0\n",
              "Name: LineProfit, Length: 227, dtype: float64"
            ],
            "text/html": [
              "<div>\n",
              "<style scoped>\n",
              "    .dataframe tbody tr th:only-of-type {\n",
              "        vertical-align: middle;\n",
              "    }\n",
              "\n",
              "    .dataframe tbody tr th {\n",
              "        vertical-align: top;\n",
              "    }\n",
              "\n",
              "    .dataframe thead th {\n",
              "        text-align: right;\n",
              "    }\n",
              "</style>\n",
              "<table border=\"1\" class=\"dataframe\">\n",
              "  <thead>\n",
              "    <tr style=\"text-align: right;\">\n",
              "      <th></th>\n",
              "      <th>LineProfit</th>\n",
              "    </tr>\n",
              "    <tr>\n",
              "      <th>Description</th>\n",
              "      <th></th>\n",
              "    </tr>\n",
              "  </thead>\n",
              "  <tbody>\n",
              "    <tr>\n",
              "      <th>20 mm Double sided bubble wrap 50m</th>\n",
              "      <td>5283560.0</td>\n",
              "    </tr>\n",
              "    <tr>\n",
              "      <th>Air cushion machine (Blue)</th>\n",
              "      <td>4418898.0</td>\n",
              "    </tr>\n",
              "    <tr>\n",
              "      <th>32 mm Anti static bubble wrap (Blue) 50m</th>\n",
              "      <td>3514220.0</td>\n",
              "    </tr>\n",
              "    <tr>\n",
              "      <th>10 mm Anti static bubble wrap (Blue) 50m</th>\n",
              "      <td>3439800.0</td>\n",
              "    </tr>\n",
              "    <tr>\n",
              "      <th>32 mm Double sided bubble wrap 50m</th>\n",
              "      <td>2915530.0</td>\n",
              "    </tr>\n",
              "    <tr>\n",
              "      <th>...</th>\n",
              "      <td>...</td>\n",
              "    </tr>\n",
              "    <tr>\n",
              "      <th>Packing knife with metal insert blade (Yellow) 9mm</th>\n",
              "      <td>29888.1</td>\n",
              "    </tr>\n",
              "    <tr>\n",
              "      <th>Halloween zombie mask (Light Brown) L</th>\n",
              "      <td>-63816.0</td>\n",
              "    </tr>\n",
              "    <tr>\n",
              "      <th>Halloween zombie mask (Light Brown) M</th>\n",
              "      <td>-66444.0</td>\n",
              "    </tr>\n",
              "    <tr>\n",
              "      <th>Halloween zombie mask (Light Brown) S</th>\n",
              "      <td>-70788.0</td>\n",
              "    </tr>\n",
              "    <tr>\n",
              "      <th>Halloween zombie mask (Light Brown) XL</th>\n",
              "      <td>-72264.0</td>\n",
              "    </tr>\n",
              "  </tbody>\n",
              "</table>\n",
              "<p>227 rows × 1 columns</p>\n",
              "</div><br><label><b>dtype:</b> float64</label>"
            ]
          },
          "metadata": {},
          "execution_count": 60
        }
      ]
    },
    {
      "cell_type": "markdown",
      "source": [
        "24- Which item is purchased in greatest quantities in a single order, on average? Use the Quantity and Description columns."
      ],
      "metadata": {
        "id": "D5UTFUKdcb5J"
      }
    },
    {
      "cell_type": "code",
      "source": [
        "# Which item is purchased in greatest quantities in a single order, on average? Use the Quantity and Description columns?\n",
        "df.groupby('Description')['Quantity'].mean().sort_values(ascending=False)\n"
      ],
      "metadata": {
        "colab": {
          "base_uri": "https://localhost:8080/",
          "height": 490
        },
        "id": "aAL_XE_-cXIQ",
        "outputId": "aab9897a-836b-4ab7-894b-62bde7c48b83"
      },
      "execution_count": null,
      "outputs": [
        {
          "output_type": "execute_result",
          "data": {
            "text/plain": [
              "Description\n",
              "Black and orange fragile despatch tape 48mmx75m                                          199.526012\n",
              "Black and orange fragile despatch tape 48mmx100m                                         199.148148\n",
              "Clear packaging tape 48mmx75m                                                            145.313761\n",
              "3 kg Courier post bag (White) 300x190x95mm                                               144.012116\n",
              "Shipping carton (Brown) 356x356x279mm                                                    141.612150\n",
              "                                                                                            ...    \n",
              "USB food flash drive - hamburger                                                           5.327273\n",
              "Superhero action jacket (Blue) L                                                           5.317073\n",
              "DBA joke mug - SELECT caffeine FROM mug (Black)                                            5.283915\n",
              "Developer joke mug - understanding recursion requires understanding recursion (Black)      5.277831\n",
              "Superhero action jacket (Blue) XXL                                                         5.211186\n",
              "Name: Quantity, Length: 227, dtype: float64"
            ],
            "text/html": [
              "<div>\n",
              "<style scoped>\n",
              "    .dataframe tbody tr th:only-of-type {\n",
              "        vertical-align: middle;\n",
              "    }\n",
              "\n",
              "    .dataframe tbody tr th {\n",
              "        vertical-align: top;\n",
              "    }\n",
              "\n",
              "    .dataframe thead th {\n",
              "        text-align: right;\n",
              "    }\n",
              "</style>\n",
              "<table border=\"1\" class=\"dataframe\">\n",
              "  <thead>\n",
              "    <tr style=\"text-align: right;\">\n",
              "      <th></th>\n",
              "      <th>Quantity</th>\n",
              "    </tr>\n",
              "    <tr>\n",
              "      <th>Description</th>\n",
              "      <th></th>\n",
              "    </tr>\n",
              "  </thead>\n",
              "  <tbody>\n",
              "    <tr>\n",
              "      <th>Black and orange fragile despatch tape 48mmx75m</th>\n",
              "      <td>199.526012</td>\n",
              "    </tr>\n",
              "    <tr>\n",
              "      <th>Black and orange fragile despatch tape 48mmx100m</th>\n",
              "      <td>199.148148</td>\n",
              "    </tr>\n",
              "    <tr>\n",
              "      <th>Clear packaging tape 48mmx75m</th>\n",
              "      <td>145.313761</td>\n",
              "    </tr>\n",
              "    <tr>\n",
              "      <th>3 kg Courier post bag (White) 300x190x95mm</th>\n",
              "      <td>144.012116</td>\n",
              "    </tr>\n",
              "    <tr>\n",
              "      <th>Shipping carton (Brown) 356x356x279mm</th>\n",
              "      <td>141.612150</td>\n",
              "    </tr>\n",
              "    <tr>\n",
              "      <th>...</th>\n",
              "      <td>...</td>\n",
              "    </tr>\n",
              "    <tr>\n",
              "      <th>USB food flash drive - hamburger</th>\n",
              "      <td>5.327273</td>\n",
              "    </tr>\n",
              "    <tr>\n",
              "      <th>Superhero action jacket (Blue) L</th>\n",
              "      <td>5.317073</td>\n",
              "    </tr>\n",
              "    <tr>\n",
              "      <th>DBA joke mug - SELECT caffeine FROM mug (Black)</th>\n",
              "      <td>5.283915</td>\n",
              "    </tr>\n",
              "    <tr>\n",
              "      <th>Developer joke mug - understanding recursion requires understanding recursion (Black)</th>\n",
              "      <td>5.277831</td>\n",
              "    </tr>\n",
              "    <tr>\n",
              "      <th>Superhero action jacket (Blue) XXL</th>\n",
              "      <td>5.211186</td>\n",
              "    </tr>\n",
              "  </tbody>\n",
              "</table>\n",
              "<p>227 rows × 1 columns</p>\n",
              "</div><br><label><b>dtype:</b> float64</label>"
            ]
          },
          "metadata": {},
          "execution_count": 61
        }
      ]
    },
    {
      "cell_type": "code",
      "source": [],
      "metadata": {
        "id": "eE4l-p4zcpUI"
      },
      "execution_count": null,
      "outputs": []
    }
  ]
}